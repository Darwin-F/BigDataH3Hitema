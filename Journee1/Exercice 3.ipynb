{
 "cells": [
  {
   "cell_type": "code",
   "execution_count": 32,
   "metadata": {},
   "outputs": [
    {
     "name": "stdout",
     "output_type": "stream",
     "text": [
      "Nom : Malik\n",
      "Prénom : Benthala\n",
      "Date de naissance : 02 / 03 / 1995\n",
      "Nom : Joseph\n",
      "Prénom : Motard\n",
      "Date de naissance : 01 / 05 / 1990\n",
      "Salaire : 2500.00\n",
      "Nom : Romain\n",
      "Prénom : Borg\n",
      "Date de naissance : 23 / 06 / 1967\n",
      "Salaire : 5000.46\n",
      "Service: DRH\n"
     ]
    }
   ],
   "source": [
    "class DateNaissance :\n",
    "    \n",
    "    def __init__(self, jour,mois,annee):\n",
    "        self.jour = jour\n",
    "        self.mois = mois\n",
    "        self.annee = annee\n",
    "    \n",
    "    def ToString(self):\n",
    "        return (\"%02d / %02d / %d\"%(self.jour,self.mois,self.annee))\n",
    "\n",
    "class Personne(DateNaissance) :\n",
    "\n",
    "    def __init__(self,nom,prenom,date_naissance):\n",
    "        self.nom = nom\n",
    "        self.prenom = prenom\n",
    "        self.date_naissance = date_naissance\n",
    "\n",
    "    def afficher(self) :\n",
    "        print(\"Nom :\",self.nom)\n",
    "        print(\"Prénom :\", self.prenom)\n",
    "        print(\"Date de naissance :\", DateNaissance.ToString(self.date_naissance))\n",
    "\n",
    "class Employe(Personne) :\n",
    "    \n",
    "    def __init__(self,nom,prenom,date_naissance,salaire):\n",
    "        Personne.__init__(self,nom,prenom,date_naissance)\n",
    "        self.salaire = salaire\n",
    "        \n",
    "    def afficher(self):\n",
    "        Personne.afficher(self)\n",
    "        print(\"Salaire : %.02f\"%self.salaire)\n",
    "\n",
    "class Chef(Employe):\n",
    "    def __init__(self,nom,prenom,date_naissance,salaire,service):\n",
    "        Employe.__init__(self,nom,prenom,date_naissance,salaire)\n",
    "        self.service=service\n",
    "    def afficher(self):\n",
    "        Employe.afficher(self)\n",
    "        print(\"Service: %s\"%self.service)\n",
    "        \n",
    "personne1 = Personne(\"Malik\",\"Benthala\",DateNaissance(2,3,1995))\n",
    "personne1.afficher()\n",
    "E = Employe(\"Joseph\",\"Motard\",DateNaissance(1,5,1990),2500)\n",
    "E.afficher()\n",
    "C = Chef(\"Romain\",\"Borg\",DateNaissance(23,6,1967),5000.4587,\"DRH\")\n",
    "C.afficher()\n"
   ]
  },
  {
   "cell_type": "code",
   "execution_count": null,
   "metadata": {},
   "outputs": [],
   "source": []
  },
  {
   "cell_type": "code",
   "execution_count": null,
   "metadata": {},
   "outputs": [],
   "source": []
  }
 ],
 "metadata": {
  "kernelspec": {
   "display_name": "Python 3",
   "language": "python",
   "name": "python3"
  },
  "language_info": {
   "codemirror_mode": {
    "name": "ipython",
    "version": 3
   },
   "file_extension": ".py",
   "mimetype": "text/x-python",
   "name": "python",
   "nbconvert_exporter": "python",
   "pygments_lexer": "ipython3",
   "version": "3.7.3"
  }
 },
 "nbformat": 4,
 "nbformat_minor": 4
}
