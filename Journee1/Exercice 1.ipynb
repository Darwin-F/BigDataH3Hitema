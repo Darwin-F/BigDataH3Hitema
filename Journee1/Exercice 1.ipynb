{
 "cells": [
  {
   "cell_type": "code",
   "execution_count": null,
   "metadata": {},
   "outputs": [],
   "source": [
    "class CompteBancaire :\n",
    "    \n",
    "    def __init__(self):\n",
    "        self.nom = \"Dupont\"\n",
    "        self.argent = 1000\n",
    "    \n",
    "    def affiche(self):\n",
    "        print(\"Le solde du compte bancaire de \" , self.nom , \" est de \", self.argent)\n",
    "\n",
    "    def depot(self,somme):\n",
    "        self.argent += somme\n",
    "\n",
    "    def retrait(self,somme):\n",
    "        self.argent -= somme\n",
    "compte1 = CompteBancaire()\n",
    "compte1.depot(350)\n",
    "compte1.retrait(200)\n",
    "compte1.affiche()"
   ]
  }
 ],
 "metadata": {
  "kernelspec": {
   "display_name": "Python 3",
   "language": "python",
   "name": "python3"
  },
  "language_info": {
   "codemirror_mode": {
    "name": "ipython",
    "version": 3
   },
   "file_extension": ".py",
   "mimetype": "text/x-python",
   "name": "python",
   "nbconvert_exporter": "python",
   "pygments_lexer": "ipython3",
   "version": "3.7.3"
  }
 },
 "nbformat": 4,
 "nbformat_minor": 4
}
